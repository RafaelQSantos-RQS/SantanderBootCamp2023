{
 "cells": [
  {
   "cell_type": "markdown",
   "metadata": {},
   "source": [
    "# Santande Dev Week 2023 (ETL com Python)"
   ]
  },
  {
   "cell_type": "markdown",
   "metadata": {},
   "source": [
    "## Preparando o ambiente"
   ]
  },
  {
   "cell_type": "code",
   "execution_count": 1,
   "metadata": {},
   "outputs": [
    {
     "name": "stdout",
     "output_type": "stream",
     "text": [
      "^C\n"
     ]
    },
    {
     "name": "stderr",
     "output_type": "stream",
     "text": [
      "'pip' n�o � reconhecido como um comando interno\n",
      "ou externo, um programa oper�vel ou um arquivo em lotes.\n",
      "'pip' n�o � reconhecido como um comando interno\n",
      "ou externo, um programa oper�vel ou um arquivo em lotes.\n",
      "'pip' n�o � reconhecido como um comando interno\n",
      "ou externo, um programa oper�vel ou um arquivo em lotes.\n",
      "'pip' n�o � reconhecido como um comando interno\n",
      "ou externo, um programa oper�vel ou um arquivo em lotes.\n"
     ]
    }
   ],
   "source": [
    "!python.exe -m pip install --upgrade pip\n",
    "!pip install pandas\n",
    "!pip install requests\n",
    "!pip install json\n",
    "!pip install openai"
   ]
  },
  {
   "cell_type": "code",
   "execution_count": 2,
   "metadata": {},
   "outputs": [
    {
     "name": "stdout",
     "output_type": "stream",
     "text": [
      "Requirement already satisfied: pip in c:\\users\\rafa\\appdata\\local\\programs\\python\\python311\\lib\\site-packages (23.2.1)\n",
      "Collecting pip\n",
      "  Obtaining dependency information for pip from https://files.pythonhosted.org/packages/e0/63/b428aaca15fcd98c39b07ca7149e24bc14205ad0f1c80ba2b01835aedde1/pip-23.3-py3-none-any.whl.metadata\n",
      "  Downloading pip-23.3-py3-none-any.whl.metadata (3.5 kB)\n",
      "Downloading pip-23.3-py3-none-any.whl (2.1 MB)\n",
      "   ---------------------------------------- 0.0/2.1 MB ? eta -:--:--\n",
      "    --------------------------------------- 0.0/2.1 MB 1.3 MB/s eta 0:00:02\n",
      "   - -------------------------------------- 0.1/2.1 MB 871.5 kB/s eta 0:00:03\n",
      "   -- ------------------------------------- 0.1/2.1 MB 944.1 kB/s eta 0:00:03\n",
      "   ---- ----------------------------------- 0.2/2.1 MB 1.4 MB/s eta 0:00:02\n",
      "   ----- ---------------------------------- 0.3/2.1 MB 1.4 MB/s eta 0:00:02\n",
      "   ------ --------------------------------- 0.4/2.1 MB 1.4 MB/s eta 0:00:02\n",
      "   ---------- ----------------------------- 0.6/2.1 MB 1.7 MB/s eta 0:00:01\n",
      "   ------------ --------------------------- 0.7/2.1 MB 1.9 MB/s eta 0:00:01\n",
      "   ---------------------- ----------------- 1.2/2.1 MB 2.9 MB/s eta 0:00:01\n",
      "   ------------------------- -------------- 1.4/2.1 MB 3.0 MB/s eta 0:00:01\n",
      "   ------------------------- -------------- 1.4/2.1 MB 3.0 MB/s eta 0:00:01\n",
      "   -------------------------------------- - 2.0/2.1 MB 3.6 MB/s eta 0:00:01\n",
      "   ---------------------------------------  2.1/2.1 MB 3.4 MB/s eta 0:00:01\n",
      "   ---------------------------------------- 2.1/2.1 MB 3.4 MB/s eta 0:00:00\n",
      "Installing collected packages: pip\n",
      "  Attempting uninstall: pip\n",
      "    Found existing installation: pip 23.2.1\n",
      "    Uninstalling pip-23.2.1:\n",
      "      Successfully uninstalled pip-23.2.1\n",
      "Successfully installed pip-23.3\n"
     ]
    }
   ],
   "source": [
    "import pandas as pd\n",
    "import requests\n",
    "import json\n",
    "import openai"
   ]
  },
  {
   "cell_type": "markdown",
   "metadata": {},
   "source": [
    "## Extract\n",
    "Extraindo a lista de IDs de usuário a partir do arquivo CSV. Será feita uma requisição que me retornará todos os usuários"
   ]
  },
  {
   "cell_type": "code",
   "execution_count": 3,
   "metadata": {},
   "outputs": [],
   "source": [
    "# URL da api\n",
    "url = 'https://sdw-2023-prd.up.railway.app/users'"
   ]
  },
  {
   "cell_type": "code",
   "execution_count": 4,
   "metadata": {},
   "outputs": [],
   "source": [
    "# Função que me retorna todos os usuários\n",
    "def get_users(url):\n",
    "    response = requests.get(url)\n",
    "    return response.json() if response.status_code == 200 else None"
   ]
  },
  {
   "cell_type": "code",
   "execution_count": 6,
   "metadata": {},
   "outputs": [],
   "source": [
    "# Recendo a lista de usuários da API transformando em um dataframe para conseguir usar pandas\n",
    "data = pd.DataFrame(columns=['id','name','account','card','features','news'])\n",
    "lista_de_usuarios = get_users(url=url)\n",
    "for user in lista_de_usuarios:\n",
    "#    print(user)\n",
    "    for key in data.columns:\n",
    "        if key not in user:\n",
    "            user[key] = None\n",
    "data = pd.concat([data,pd.DataFrame(lista_de_usuarios)],ignore_index=True)"
   ]
  },
  {
   "cell_type": "markdown",
   "metadata": {},
   "source": [
    "# Transform"
   ]
  },
  {
   "cell_type": "code",
   "execution_count": 7,
   "metadata": {},
   "outputs": [],
   "source": [
    "# Chave API da OpenAI (Substitua pela sua chave API)\n",
    "api_key = 'TODO'"
   ]
  },
  {
   "cell_type": "code",
   "execution_count": 8,
   "metadata": {},
   "outputs": [],
   "source": [
    "# Função para gerar news automaticamente (Baseado no chatGPT)\n",
    "openai.api_key = api_key\n",
    "def generate_ai_news(user):\n",
    "  completion = openai.ChatCompletion.create(\n",
    "    model=\"gpt-4\",\n",
    "    messages=[\n",
    "      {\n",
    "          \"role\": \"system\",\n",
    "          \"content\": \"Você é um especialista em markting bancário.\"\n",
    "      },\n",
    "      {\n",
    "          \"role\": \"user\",\n",
    "          \"content\": f\"Crie uma mensagem para {user['name']} sobre a importância dos investimentos (máximo de 100 caracteres)\"\n",
    "      }\n",
    "    ]\n",
    "  )\n",
    "  return completion.choices[0].message.content.strip('\\\"')\n"
   ]
  },
  {
   "cell_type": "code",
   "execution_count": null,
   "metadata": {},
   "outputs": [],
   "source": [
    "# Prrenchendo os valores vazios da coluna news (base de dados já veio com alguns news preenchidos previamente)\n",
    "for _, row in data.iterrows():\n",
    "    if row['news'] == []:\n",
    "        news = generate_ai_news(user=row['name'])\n",
    "        row['news'] = [{\n",
    "            \"icon\": \"https://digitalinnovationone.github.io/santander-dev-week-2023-api/icons/credit.svg\",\n",
    "            \"description\": news\n",
    "        }]"
   ]
  },
  {
   "cell_type": "markdown",
   "metadata": {},
   "source": [
    "# Load"
   ]
  },
  {
   "cell_type": "code",
   "execution_count": null,
   "metadata": {},
   "outputs": [],
   "source": [
    "# Exportando um Excel com os dados\n",
    "data.to_excel('data.xlsx',index=False)"
   ]
  }
 ],
 "metadata": {
  "kernelspec": {
   "display_name": "Python 3",
   "language": "python",
   "name": "python3"
  },
  "language_info": {
   "codemirror_mode": {
    "name": "ipython",
    "version": 3
   },
   "file_extension": ".py",
   "mimetype": "text/x-python",
   "name": "python",
   "nbconvert_exporter": "python",
   "pygments_lexer": "ipython3",
   "version": "3.11.4"
  },
  "orig_nbformat": 4
 },
 "nbformat": 4,
 "nbformat_minor": 2
}
